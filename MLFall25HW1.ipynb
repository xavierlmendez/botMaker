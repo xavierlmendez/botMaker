{
  "nbformat": 4,
  "nbformat_minor": 0,
  "metadata": {
    "colab": {
      "provenance": [],
      "authorship_tag": "ABX9TyOo3WEtsvimVhKihFdxOLoj",
      "include_colab_link": true
    },
    "kernelspec": {
      "name": "python3",
      "display_name": "Python 3"
    },
    "language_info": {
      "name": "python"
    }
  },
  "cells": [
    {
      "cell_type": "markdown",
      "metadata": {
        "id": "view-in-github",
        "colab_type": "text"
      },
      "source": [
        "<a href=\"https://colab.research.google.com/github/xavierlmendez/botMaker/blob/main/MLFall25HW1.ipynb\" target=\"_parent\"><img src=\"https://colab.research.google.com/assets/colab-badge.svg\" alt=\"Open In Colab\"/></a>"
      ]
    },
    {
      "cell_type": "markdown",
      "source": [
        "# Xavier Mendez HW 1 Q4 and Q5 (starts at cell 28)\n",
        "## Q4 Implementing a linear regression model from scratch (without polynomial features)\n",
        "\n",
        "### Q4 notes:\n",
        "- since it does not have polynomial feature I can use a simple function of one weight per feature\n",
        "- The core idea behind gradient descent is centered around the error of a predicted and actual value, the direction we need to move towards in the vector space to reduce that error, and quantifying how much we move by using the loss function and the learning rate though were not using learning rate here\n",
        "\n",
        "preliminary psuedo/word code:\n",
        "- assuming a function of y = \\[W0X0, ..., WiXi] + b for i number of features in the data set  \n",
        "- iterate over each element in the data set\n",
        "- with each element calculate the loss (I'll want to make this a plug in able thing so my loss functions need to respect the open/closed principle)\n",
        "- then still with each element update the weights\n",
        "\n",
        "\n",
        "\n",
        "\n",
        "\n"
      ],
      "metadata": {
        "id": "Mi6bopVXRBFb"
      }
    },
    {
      "cell_type": "code",
      "source": [
        "import numpy as np\n",
        "import pandas as pd"
      ],
      "metadata": {
        "id": "-KJk17RQczxA"
      },
      "execution_count": 2,
      "outputs": []
    },
    {
      "cell_type": "code",
      "source": [
        "# going with a reusable oop structure so ill be making the hypothesis function from scratch with its own class\n",
        "# I'll be using numpy for my matrix manipulation / lin algebra\n",
        "class HypothesisFunction:\n",
        "    def __init__(self, initialWeights, initialBias):\n",
        "        # the X in the normal hypothesis function will be passed into the compute prediction function instead of a part of instantiation\n",
        "        self.hypothesis = initialWeights\n",
        "        self.bias = initialBias\n",
        "        self.metadata = {\n",
        "            \"name\": \"hypothesis function parent class\",\n",
        "            \"description\": \"A library class serving as a template for hypothesis function classes used to compute a prediction and expand/contract the hypothesis space the hypothesis in this context is a nparray containing the weight and degree of the hypothesis space\"\n",
        "        }\n",
        "\n",
        "    def setHypothesis(self, hypothesis):\n",
        "        self.hypothesis = hypothesis\n",
        "\n",
        "    def getHypothesis(self):\n",
        "        return self.hypothesis\n",
        "\n",
        "    def updateBias(self, bias):\n",
        "        self.bias = bias\n",
        "\n",
        "    def getBias(self):\n",
        "        return self.bias\n",
        "\n",
        "    def printHypothesis(self):\n",
        "        print(self.hypothesis)\n",
        "\n",
        "    def computePrediction(self, data):\n",
        "        # for hw one keeping it simple and non polynomial\n",
        "        # multiplying the weights by the data and adding the bias\n",
        "        data = data.reshape(-1)\n",
        "        return self.hypothesis @ data + self.bias\n",
        "\n",
        "    def computeClassification(self, data):\n",
        "        # for hw one keeping it simple and non polynomial\n",
        "        # multiplying the weights by the data and adding the bias\n",
        "        data = data.reshape(-1)\n",
        "        return np.sign(self.hypothesis @ data + self.bias)\n",
        "\n",
        "    def expandHypothesis(self, degree):\n",
        "        # if the hypothesis is [[x1], [x2]] and degree=3 then we will return [[1, x1, x1^2, x1^3], [1, x2, x2^2, x2^3]]\n",
        "        # not using for HW1\n",
        "        pass\n",
        "\n",
        "    def getWeights(self):\n",
        "        return self.hypothesis\n",
        "\n",
        "    def updateWeights(self, newWeights):\n",
        "        self.hypothesis = newWeights\n"
      ],
      "metadata": {
        "id": "5AlCuYaOT6M0"
      },
      "execution_count": 157,
      "outputs": []
    },
    {
      "cell_type": "code",
      "source": [
        "# defining the loss functions ill be plugging into the linear regression model, I want this to be abstract for reuse with the project if I decide to make a library\n",
        "# https://docs.python.org/3/tutorial/classes.html\n",
        "class LossFunction:\n",
        "    def __init__(self):\n",
        "      # the hypothesisFunction I am expecting to be a data object representing the vector notation used for hypothesisspaces so I can exapand this to polynomial\n",
        "      # later I want the hypothesis function to have an enum so that I can dictate if it is meant to be for regression or classification\n",
        "        self.metadata = {\n",
        "            \"name\": \"loss function parent class\",\n",
        "            \"description\": \"A library class serving as a template for loss function classes that compute loss between a single predicted and actual value\"\n",
        "        }\n",
        "\n",
        "    def computeLoss(self, actual, predicted):\n",
        "        pass\n",
        "    def computeGradient(self, actual, predicted):\n",
        "        pass\n",
        "\n",
        "class MSE(LossFunction):\n",
        "    def computeLoss(self, actual, predicted):\n",
        "        return np.mean((actual - predicted)**2)\n",
        "\n",
        "    def computeGradient(self, actual, predicted):\n",
        "        n = actual.shape[0]\n",
        "        return (2.0/ n) * (predicted - actual)\n",
        "\n",
        "class MAE(LossFunction):\n",
        "    def computeLoss(self, actual, predicted):\n",
        "        return np.mean(abs(actual - predicted))\n",
        "\n",
        "    def computeGradient(self, actual, predicted):\n",
        "        return np.sign(predicted - actual)"
      ],
      "metadata": {
        "id": "OIDEs-1_bprM"
      },
      "execution_count": 4,
      "outputs": []
    },
    {
      "cell_type": "code",
      "source": [
        "class CostFunction():\n",
        "  def __init__(self, lossFunction : LossFunction):\n",
        "    self.lossFunction = lossFunction\n",
        "    # the hypothesisFunction I am expecting to be a data object representing the vector notation used for hypothesisspaces so I can exapand this to polynomial\n",
        "    # later I want the hypothesis function to have an enum so that I can dictate if it is meant to be for regression or classification\n",
        "    self.metadata = {\n",
        "        \"name\": \"loss function parent class\",\n",
        "        \"description\": \"A library class serving as a template for cost function classes that compute cost for a run through of a data set\"\n",
        "    }\n",
        "\n",
        "  def computeCost(self, hypothesisFunction, dataValues, dataTargets):\n",
        "    pass"
      ],
      "metadata": {
        "id": "UZOXnz4Yi2so"
      },
      "execution_count": 5,
      "outputs": []
    },
    {
      "cell_type": "code",
      "source": [
        "class MyLinearRegression:\n",
        "    # choosing 0.001 for default learning rate bc thats what adam uses\n",
        "    def __init__(self, hypothesisFunction : HypothesisFunction, lossFunction : LossFunction, learningRate = 0.001, epochs = 10):\n",
        "        self.learningModel = hypothesisFunction\n",
        "        self.lossFunction = lossFunction\n",
        "        self.learningRate = learningRate\n",
        "        self.epochs = epochs\n",
        "\n",
        "    def fit(self, dataValues, dataTargets):\n",
        "        # for n epochs\n",
        "        # calculate the cost function - in the gradientDescent function\n",
        "        # compute the gradient\n",
        "        # update the weights\n",
        "        # repeat\n",
        "        for epoch in range(self.epochs):\n",
        "            newWeights, newBias = self.calculateGradientDescent(dataValues, dataTargets)\n",
        "            self.updateWeights(newWeights, newBias)\n",
        "            cost = self.calculateCostFunction(dataValues, dataTargets)\n",
        "            print(f\"Epoch: {epoch}, Cost: {cost}\")\n",
        "        return self\n",
        "\n",
        "    def predict(self, data):\n",
        "        return self.learningModel.computePrediction(data)\n",
        "\n",
        "    def predictValues(self, dataValues):\n",
        "      predictedValues = []\n",
        "      for data in dataValues:\n",
        "        predictedValues.append(self.predict(data))\n",
        "      return np.array(predictedValues)\n",
        "\n",
        "    def evaluate(self, dataValues, dataTargets):\n",
        "        # used same evaluate function as boston data set demo\n",
        "        pass\n",
        "\n",
        "    def calculateGradientDescent(self, dataValues, dataTargets):\n",
        "        # calculate the gradient\n",
        "        predicted = self.predictValues(dataValues)\n",
        "        gradientDescentAdjusteddataTargets = self.lossFunction.computeGradient(dataTargets, predicted)\n",
        "\n",
        "        gradientDescentAdjustedWeights = dataValues.T @ gradientDescentAdjusteddataTargets\n",
        "        adjustedBias = np.sum(gradientDescentAdjusteddataTargets)\n",
        "        return gradientDescentAdjustedWeights, adjustedBias\n",
        "\n",
        "    def updateWeights(self, gradientDescentAdjustedWeights, gradientDescentAdjustedBias):\n",
        "        # update the weights and bias\n",
        "        newWeights = self.learningModel.getWeights() - self.learningRate * gradientDescentAdjustedWeights\n",
        "        newBias = self.learningModel.getBias() - self.learningRate * gradientDescentAdjustedBias\n",
        "        self.learningModel.updateWeights(newWeights)\n",
        "        self.learningModel.updateBias(newBias)\n",
        "\n",
        "    def calculateCostFunction(self, dataValues, dataTargets):\n",
        "        # here were putting together the cost function as a set of linear equations\n",
        "        # doing it this way to leverage linear algebra packages\n",
        "        predicted = self.predictValues(dataValues)\n",
        "        lossAcrossData = self.lossFunction.computeLoss(dataTargets, predicted)\n",
        "        return np.mean(lossAcrossData)"
      ],
      "metadata": {
        "id": "yse7hoXTgTqs"
      },
      "execution_count": 6,
      "outputs": []
    },
    {
      "cell_type": "markdown",
      "source": [
        "# Q4 test with the housing dataset\n",
        "# housing set taken from https://colab.research.google.com/drive/1myH2V4xbKXZzdF-49ma_vWHLfArTyO2W#scrollTo=XNZTEWOGTdqZ\n"
      ],
      "metadata": {
        "id": "9YKnAs3g6B8b"
      }
    },
    {
      "cell_type": "code",
      "source": [
        "import numpy as np\n",
        "import sklearn\n",
        "import pandas as pd\n",
        "import matplotlib.pyplot as plt\n",
        "import seaborn as sns\n",
        "\n",
        "%matplotlib inline"
      ],
      "metadata": {
        "id": "Focr359b6pwV"
      },
      "execution_count": 7,
      "outputs": []
    },
    {
      "cell_type": "code",
      "source": [
        "class BostonHousingDataset:\n",
        "    def __init__(self):\n",
        "        self.url = \"http://lib.stat.cmu.edu/datasets/boston\"\n",
        "        self.feature_names = [\"CRIM\", \"ZN\", \"INDUS\", \"CHAS\", \"NOX\", \"RM\", \"AGE\", \"DIS\", \"RAD\", \"TAX\", \"PTRATIO\", \"B\", \"LSTAT\"]\n",
        "\n",
        "    def load_dataset(self):\n",
        "        # Fetch data from URL\n",
        "        raw_df = pd.read_csv(self.url, sep=\"\\s+\", skiprows=22, header=None)\n",
        "        data = np.hstack([raw_df.values[::2, :], raw_df.values[1::2, :2]])\n",
        "        target = raw_df.values[1::2, 2]\n",
        "\n",
        "        # Create the dictionary in sklearn format\n",
        "        dataset = {\n",
        "            'data': [],\n",
        "            'target': [],\n",
        "            'feature_names': self.feature_names,\n",
        "            'DESCR': 'Boston House Prices dataset'\n",
        "        }\n",
        "\n",
        "        dataset['data'] = data\n",
        "        dataset['target'] = target\n",
        "\n",
        "        return dataset"
      ],
      "metadata": {
        "colab": {
          "base_uri": "https://localhost:8080/"
        },
        "id": "oWaE1hlJiI9-",
        "outputId": "345e7c78-d5ba-48b2-d6a7-6248cc7aea1c"
      },
      "execution_count": 8,
      "outputs": [
        {
          "output_type": "stream",
          "name": "stderr",
          "text": [
            "<>:8: SyntaxWarning: invalid escape sequence '\\s'\n",
            "<>:8: SyntaxWarning: invalid escape sequence '\\s'\n",
            "/tmp/ipython-input-2325054334.py:8: SyntaxWarning: invalid escape sequence '\\s'\n",
            "  raw_df = pd.read_csv(self.url, sep=\"\\s+\", skiprows=22, header=None)\n"
          ]
        }
      ]
    },
    {
      "cell_type": "code",
      "source": [
        "boston_housing = BostonHousingDataset()\n",
        "boston_dataset = boston_housing.load_dataset()\n",
        "boston_dataset.keys(), boston_dataset['DESCR']\n",
        "boston = pd.DataFrame(boston_dataset['data'], columns=boston_dataset['feature_names'])\n",
        "boston['MEDV'] = boston_dataset['target']\n",
        "boston.head()"
      ],
      "metadata": {
        "colab": {
          "base_uri": "https://localhost:8080/",
          "height": 206
        },
        "id": "YdlkBZXv6n5r",
        "outputId": "76bafa81-c2b9-4b7d-c489-d6bf2bcf5316"
      },
      "execution_count": 9,
      "outputs": [
        {
          "output_type": "execute_result",
          "data": {
            "text/plain": [
              "      CRIM    ZN  INDUS  CHAS    NOX     RM   AGE     DIS  RAD    TAX  \\\n",
              "0  0.00632  18.0   2.31   0.0  0.538  6.575  65.2  4.0900  1.0  296.0   \n",
              "1  0.02731   0.0   7.07   0.0  0.469  6.421  78.9  4.9671  2.0  242.0   \n",
              "2  0.02729   0.0   7.07   0.0  0.469  7.185  61.1  4.9671  2.0  242.0   \n",
              "3  0.03237   0.0   2.18   0.0  0.458  6.998  45.8  6.0622  3.0  222.0   \n",
              "4  0.06905   0.0   2.18   0.0  0.458  7.147  54.2  6.0622  3.0  222.0   \n",
              "\n",
              "   PTRATIO       B  LSTAT  MEDV  \n",
              "0     15.3  396.90   4.98  24.0  \n",
              "1     17.8  396.90   9.14  21.6  \n",
              "2     17.8  392.83   4.03  34.7  \n",
              "3     18.7  394.63   2.94  33.4  \n",
              "4     18.7  396.90   5.33  36.2  "
            ],
            "text/html": [
              "\n",
              "  <div id=\"df-e5ba9ff9-4a43-416f-a7f6-4712cc08abc8\" class=\"colab-df-container\">\n",
              "    <div>\n",
              "<style scoped>\n",
              "    .dataframe tbody tr th:only-of-type {\n",
              "        vertical-align: middle;\n",
              "    }\n",
              "\n",
              "    .dataframe tbody tr th {\n",
              "        vertical-align: top;\n",
              "    }\n",
              "\n",
              "    .dataframe thead th {\n",
              "        text-align: right;\n",
              "    }\n",
              "</style>\n",
              "<table border=\"1\" class=\"dataframe\">\n",
              "  <thead>\n",
              "    <tr style=\"text-align: right;\">\n",
              "      <th></th>\n",
              "      <th>CRIM</th>\n",
              "      <th>ZN</th>\n",
              "      <th>INDUS</th>\n",
              "      <th>CHAS</th>\n",
              "      <th>NOX</th>\n",
              "      <th>RM</th>\n",
              "      <th>AGE</th>\n",
              "      <th>DIS</th>\n",
              "      <th>RAD</th>\n",
              "      <th>TAX</th>\n",
              "      <th>PTRATIO</th>\n",
              "      <th>B</th>\n",
              "      <th>LSTAT</th>\n",
              "      <th>MEDV</th>\n",
              "    </tr>\n",
              "  </thead>\n",
              "  <tbody>\n",
              "    <tr>\n",
              "      <th>0</th>\n",
              "      <td>0.00632</td>\n",
              "      <td>18.0</td>\n",
              "      <td>2.31</td>\n",
              "      <td>0.0</td>\n",
              "      <td>0.538</td>\n",
              "      <td>6.575</td>\n",
              "      <td>65.2</td>\n",
              "      <td>4.0900</td>\n",
              "      <td>1.0</td>\n",
              "      <td>296.0</td>\n",
              "      <td>15.3</td>\n",
              "      <td>396.90</td>\n",
              "      <td>4.98</td>\n",
              "      <td>24.0</td>\n",
              "    </tr>\n",
              "    <tr>\n",
              "      <th>1</th>\n",
              "      <td>0.02731</td>\n",
              "      <td>0.0</td>\n",
              "      <td>7.07</td>\n",
              "      <td>0.0</td>\n",
              "      <td>0.469</td>\n",
              "      <td>6.421</td>\n",
              "      <td>78.9</td>\n",
              "      <td>4.9671</td>\n",
              "      <td>2.0</td>\n",
              "      <td>242.0</td>\n",
              "      <td>17.8</td>\n",
              "      <td>396.90</td>\n",
              "      <td>9.14</td>\n",
              "      <td>21.6</td>\n",
              "    </tr>\n",
              "    <tr>\n",
              "      <th>2</th>\n",
              "      <td>0.02729</td>\n",
              "      <td>0.0</td>\n",
              "      <td>7.07</td>\n",
              "      <td>0.0</td>\n",
              "      <td>0.469</td>\n",
              "      <td>7.185</td>\n",
              "      <td>61.1</td>\n",
              "      <td>4.9671</td>\n",
              "      <td>2.0</td>\n",
              "      <td>242.0</td>\n",
              "      <td>17.8</td>\n",
              "      <td>392.83</td>\n",
              "      <td>4.03</td>\n",
              "      <td>34.7</td>\n",
              "    </tr>\n",
              "    <tr>\n",
              "      <th>3</th>\n",
              "      <td>0.03237</td>\n",
              "      <td>0.0</td>\n",
              "      <td>2.18</td>\n",
              "      <td>0.0</td>\n",
              "      <td>0.458</td>\n",
              "      <td>6.998</td>\n",
              "      <td>45.8</td>\n",
              "      <td>6.0622</td>\n",
              "      <td>3.0</td>\n",
              "      <td>222.0</td>\n",
              "      <td>18.7</td>\n",
              "      <td>394.63</td>\n",
              "      <td>2.94</td>\n",
              "      <td>33.4</td>\n",
              "    </tr>\n",
              "    <tr>\n",
              "      <th>4</th>\n",
              "      <td>0.06905</td>\n",
              "      <td>0.0</td>\n",
              "      <td>2.18</td>\n",
              "      <td>0.0</td>\n",
              "      <td>0.458</td>\n",
              "      <td>7.147</td>\n",
              "      <td>54.2</td>\n",
              "      <td>6.0622</td>\n",
              "      <td>3.0</td>\n",
              "      <td>222.0</td>\n",
              "      <td>18.7</td>\n",
              "      <td>396.90</td>\n",
              "      <td>5.33</td>\n",
              "      <td>36.2</td>\n",
              "    </tr>\n",
              "  </tbody>\n",
              "</table>\n",
              "</div>\n",
              "    <div class=\"colab-df-buttons\">\n",
              "\n",
              "  <div class=\"colab-df-container\">\n",
              "    <button class=\"colab-df-convert\" onclick=\"convertToInteractive('df-e5ba9ff9-4a43-416f-a7f6-4712cc08abc8')\"\n",
              "            title=\"Convert this dataframe to an interactive table.\"\n",
              "            style=\"display:none;\">\n",
              "\n",
              "  <svg xmlns=\"http://www.w3.org/2000/svg\" height=\"24px\" viewBox=\"0 -960 960 960\">\n",
              "    <path d=\"M120-120v-720h720v720H120Zm60-500h600v-160H180v160Zm220 220h160v-160H400v160Zm0 220h160v-160H400v160ZM180-400h160v-160H180v160Zm440 0h160v-160H620v160ZM180-180h160v-160H180v160Zm440 0h160v-160H620v160Z\"/>\n",
              "  </svg>\n",
              "    </button>\n",
              "\n",
              "  <style>\n",
              "    .colab-df-container {\n",
              "      display:flex;\n",
              "      gap: 12px;\n",
              "    }\n",
              "\n",
              "    .colab-df-convert {\n",
              "      background-color: #E8F0FE;\n",
              "      border: none;\n",
              "      border-radius: 50%;\n",
              "      cursor: pointer;\n",
              "      display: none;\n",
              "      fill: #1967D2;\n",
              "      height: 32px;\n",
              "      padding: 0 0 0 0;\n",
              "      width: 32px;\n",
              "    }\n",
              "\n",
              "    .colab-df-convert:hover {\n",
              "      background-color: #E2EBFA;\n",
              "      box-shadow: 0px 1px 2px rgba(60, 64, 67, 0.3), 0px 1px 3px 1px rgba(60, 64, 67, 0.15);\n",
              "      fill: #174EA6;\n",
              "    }\n",
              "\n",
              "    .colab-df-buttons div {\n",
              "      margin-bottom: 4px;\n",
              "    }\n",
              "\n",
              "    [theme=dark] .colab-df-convert {\n",
              "      background-color: #3B4455;\n",
              "      fill: #D2E3FC;\n",
              "    }\n",
              "\n",
              "    [theme=dark] .colab-df-convert:hover {\n",
              "      background-color: #434B5C;\n",
              "      box-shadow: 0px 1px 3px 1px rgba(0, 0, 0, 0.15);\n",
              "      filter: drop-shadow(0px 1px 2px rgba(0, 0, 0, 0.3));\n",
              "      fill: #FFFFFF;\n",
              "    }\n",
              "  </style>\n",
              "\n",
              "    <script>\n",
              "      const buttonEl =\n",
              "        document.querySelector('#df-e5ba9ff9-4a43-416f-a7f6-4712cc08abc8 button.colab-df-convert');\n",
              "      buttonEl.style.display =\n",
              "        google.colab.kernel.accessAllowed ? 'block' : 'none';\n",
              "\n",
              "      async function convertToInteractive(key) {\n",
              "        const element = document.querySelector('#df-e5ba9ff9-4a43-416f-a7f6-4712cc08abc8');\n",
              "        const dataTable =\n",
              "          await google.colab.kernel.invokeFunction('convertToInteractive',\n",
              "                                                    [key], {});\n",
              "        if (!dataTable) return;\n",
              "\n",
              "        const docLinkHtml = 'Like what you see? Visit the ' +\n",
              "          '<a target=\"_blank\" href=https://colab.research.google.com/notebooks/data_table.ipynb>data table notebook</a>'\n",
              "          + ' to learn more about interactive tables.';\n",
              "        element.innerHTML = '';\n",
              "        dataTable['output_type'] = 'display_data';\n",
              "        await google.colab.output.renderOutput(dataTable, element);\n",
              "        const docLink = document.createElement('div');\n",
              "        docLink.innerHTML = docLinkHtml;\n",
              "        element.appendChild(docLink);\n",
              "      }\n",
              "    </script>\n",
              "  </div>\n",
              "\n",
              "\n",
              "    <div id=\"df-9920f02d-0f71-40fa-9df3-1248ab1b9537\">\n",
              "      <button class=\"colab-df-quickchart\" onclick=\"quickchart('df-9920f02d-0f71-40fa-9df3-1248ab1b9537')\"\n",
              "                title=\"Suggest charts\"\n",
              "                style=\"display:none;\">\n",
              "\n",
              "<svg xmlns=\"http://www.w3.org/2000/svg\" height=\"24px\"viewBox=\"0 0 24 24\"\n",
              "     width=\"24px\">\n",
              "    <g>\n",
              "        <path d=\"M19 3H5c-1.1 0-2 .9-2 2v14c0 1.1.9 2 2 2h14c1.1 0 2-.9 2-2V5c0-1.1-.9-2-2-2zM9 17H7v-7h2v7zm4 0h-2V7h2v10zm4 0h-2v-4h2v4z\"/>\n",
              "    </g>\n",
              "</svg>\n",
              "      </button>\n",
              "\n",
              "<style>\n",
              "  .colab-df-quickchart {\n",
              "      --bg-color: #E8F0FE;\n",
              "      --fill-color: #1967D2;\n",
              "      --hover-bg-color: #E2EBFA;\n",
              "      --hover-fill-color: #174EA6;\n",
              "      --disabled-fill-color: #AAA;\n",
              "      --disabled-bg-color: #DDD;\n",
              "  }\n",
              "\n",
              "  [theme=dark] .colab-df-quickchart {\n",
              "      --bg-color: #3B4455;\n",
              "      --fill-color: #D2E3FC;\n",
              "      --hover-bg-color: #434B5C;\n",
              "      --hover-fill-color: #FFFFFF;\n",
              "      --disabled-bg-color: #3B4455;\n",
              "      --disabled-fill-color: #666;\n",
              "  }\n",
              "\n",
              "  .colab-df-quickchart {\n",
              "    background-color: var(--bg-color);\n",
              "    border: none;\n",
              "    border-radius: 50%;\n",
              "    cursor: pointer;\n",
              "    display: none;\n",
              "    fill: var(--fill-color);\n",
              "    height: 32px;\n",
              "    padding: 0;\n",
              "    width: 32px;\n",
              "  }\n",
              "\n",
              "  .colab-df-quickchart:hover {\n",
              "    background-color: var(--hover-bg-color);\n",
              "    box-shadow: 0 1px 2px rgba(60, 64, 67, 0.3), 0 1px 3px 1px rgba(60, 64, 67, 0.15);\n",
              "    fill: var(--button-hover-fill-color);\n",
              "  }\n",
              "\n",
              "  .colab-df-quickchart-complete:disabled,\n",
              "  .colab-df-quickchart-complete:disabled:hover {\n",
              "    background-color: var(--disabled-bg-color);\n",
              "    fill: var(--disabled-fill-color);\n",
              "    box-shadow: none;\n",
              "  }\n",
              "\n",
              "  .colab-df-spinner {\n",
              "    border: 2px solid var(--fill-color);\n",
              "    border-color: transparent;\n",
              "    border-bottom-color: var(--fill-color);\n",
              "    animation:\n",
              "      spin 1s steps(1) infinite;\n",
              "  }\n",
              "\n",
              "  @keyframes spin {\n",
              "    0% {\n",
              "      border-color: transparent;\n",
              "      border-bottom-color: var(--fill-color);\n",
              "      border-left-color: var(--fill-color);\n",
              "    }\n",
              "    20% {\n",
              "      border-color: transparent;\n",
              "      border-left-color: var(--fill-color);\n",
              "      border-top-color: var(--fill-color);\n",
              "    }\n",
              "    30% {\n",
              "      border-color: transparent;\n",
              "      border-left-color: var(--fill-color);\n",
              "      border-top-color: var(--fill-color);\n",
              "      border-right-color: var(--fill-color);\n",
              "    }\n",
              "    40% {\n",
              "      border-color: transparent;\n",
              "      border-right-color: var(--fill-color);\n",
              "      border-top-color: var(--fill-color);\n",
              "    }\n",
              "    60% {\n",
              "      border-color: transparent;\n",
              "      border-right-color: var(--fill-color);\n",
              "    }\n",
              "    80% {\n",
              "      border-color: transparent;\n",
              "      border-right-color: var(--fill-color);\n",
              "      border-bottom-color: var(--fill-color);\n",
              "    }\n",
              "    90% {\n",
              "      border-color: transparent;\n",
              "      border-bottom-color: var(--fill-color);\n",
              "    }\n",
              "  }\n",
              "</style>\n",
              "\n",
              "      <script>\n",
              "        async function quickchart(key) {\n",
              "          const quickchartButtonEl =\n",
              "            document.querySelector('#' + key + ' button');\n",
              "          quickchartButtonEl.disabled = true;  // To prevent multiple clicks.\n",
              "          quickchartButtonEl.classList.add('colab-df-spinner');\n",
              "          try {\n",
              "            const charts = await google.colab.kernel.invokeFunction(\n",
              "                'suggestCharts', [key], {});\n",
              "          } catch (error) {\n",
              "            console.error('Error during call to suggestCharts:', error);\n",
              "          }\n",
              "          quickchartButtonEl.classList.remove('colab-df-spinner');\n",
              "          quickchartButtonEl.classList.add('colab-df-quickchart-complete');\n",
              "        }\n",
              "        (() => {\n",
              "          let quickchartButtonEl =\n",
              "            document.querySelector('#df-9920f02d-0f71-40fa-9df3-1248ab1b9537 button');\n",
              "          quickchartButtonEl.style.display =\n",
              "            google.colab.kernel.accessAllowed ? 'block' : 'none';\n",
              "        })();\n",
              "      </script>\n",
              "    </div>\n",
              "\n",
              "    </div>\n",
              "  </div>\n"
            ],
            "application/vnd.google.colaboratory.intrinsic+json": {
              "type": "dataframe",
              "variable_name": "boston",
              "summary": "{\n  \"name\": \"boston\",\n  \"rows\": 506,\n  \"fields\": [\n    {\n      \"column\": \"CRIM\",\n      \"properties\": {\n        \"dtype\": \"number\",\n        \"std\": 8.601545105332487,\n        \"min\": 0.00632,\n        \"max\": 88.9762,\n        \"num_unique_values\": 504,\n        \"samples\": [\n          0.09178,\n          0.05644,\n          0.10574\n        ],\n        \"semantic_type\": \"\",\n        \"description\": \"\"\n      }\n    },\n    {\n      \"column\": \"ZN\",\n      \"properties\": {\n        \"dtype\": \"number\",\n        \"std\": 23.322452994515036,\n        \"min\": 0.0,\n        \"max\": 100.0,\n        \"num_unique_values\": 26,\n        \"samples\": [\n          25.0,\n          30.0,\n          18.0\n        ],\n        \"semantic_type\": \"\",\n        \"description\": \"\"\n      }\n    },\n    {\n      \"column\": \"INDUS\",\n      \"properties\": {\n        \"dtype\": \"number\",\n        \"std\": 6.8603529408975845,\n        \"min\": 0.46,\n        \"max\": 27.74,\n        \"num_unique_values\": 76,\n        \"samples\": [\n          8.14,\n          1.47,\n          1.22\n        ],\n        \"semantic_type\": \"\",\n        \"description\": \"\"\n      }\n    },\n    {\n      \"column\": \"CHAS\",\n      \"properties\": {\n        \"dtype\": \"number\",\n        \"std\": 0.2539940413404118,\n        \"min\": 0.0,\n        \"max\": 1.0,\n        \"num_unique_values\": 2,\n        \"samples\": [\n          1.0,\n          0.0\n        ],\n        \"semantic_type\": \"\",\n        \"description\": \"\"\n      }\n    },\n    {\n      \"column\": \"NOX\",\n      \"properties\": {\n        \"dtype\": \"number\",\n        \"std\": 0.11587767566755611,\n        \"min\": 0.385,\n        \"max\": 0.871,\n        \"num_unique_values\": 81,\n        \"samples\": [\n          0.401,\n          0.538\n        ],\n        \"semantic_type\": \"\",\n        \"description\": \"\"\n      }\n    },\n    {\n      \"column\": \"RM\",\n      \"properties\": {\n        \"dtype\": \"number\",\n        \"std\": 0.7026171434153237,\n        \"min\": 3.561,\n        \"max\": 8.78,\n        \"num_unique_values\": 446,\n        \"samples\": [\n          6.849,\n          4.88\n        ],\n        \"semantic_type\": \"\",\n        \"description\": \"\"\n      }\n    },\n    {\n      \"column\": \"AGE\",\n      \"properties\": {\n        \"dtype\": \"number\",\n        \"std\": 28.148861406903638,\n        \"min\": 2.9,\n        \"max\": 100.0,\n        \"num_unique_values\": 356,\n        \"samples\": [\n          51.8,\n          33.8\n        ],\n        \"semantic_type\": \"\",\n        \"description\": \"\"\n      }\n    },\n    {\n      \"column\": \"DIS\",\n      \"properties\": {\n        \"dtype\": \"number\",\n        \"std\": 2.1057101266276104,\n        \"min\": 1.1296,\n        \"max\": 12.1265,\n        \"num_unique_values\": 412,\n        \"samples\": [\n          2.2955,\n          4.2515\n        ],\n        \"semantic_type\": \"\",\n        \"description\": \"\"\n      }\n    },\n    {\n      \"column\": \"RAD\",\n      \"properties\": {\n        \"dtype\": \"number\",\n        \"std\": 8.707259384239377,\n        \"min\": 1.0,\n        \"max\": 24.0,\n        \"num_unique_values\": 9,\n        \"samples\": [\n          7.0,\n          2.0\n        ],\n        \"semantic_type\": \"\",\n        \"description\": \"\"\n      }\n    },\n    {\n      \"column\": \"TAX\",\n      \"properties\": {\n        \"dtype\": \"number\",\n        \"std\": 168.53711605495926,\n        \"min\": 187.0,\n        \"max\": 711.0,\n        \"num_unique_values\": 66,\n        \"samples\": [\n          370.0,\n          666.0\n        ],\n        \"semantic_type\": \"\",\n        \"description\": \"\"\n      }\n    },\n    {\n      \"column\": \"PTRATIO\",\n      \"properties\": {\n        \"dtype\": \"number\",\n        \"std\": 2.164945523714446,\n        \"min\": 12.6,\n        \"max\": 22.0,\n        \"num_unique_values\": 46,\n        \"samples\": [\n          19.6,\n          15.6\n        ],\n        \"semantic_type\": \"\",\n        \"description\": \"\"\n      }\n    },\n    {\n      \"column\": \"B\",\n      \"properties\": {\n        \"dtype\": \"number\",\n        \"std\": 91.29486438415779,\n        \"min\": 0.32,\n        \"max\": 396.9,\n        \"num_unique_values\": 357,\n        \"samples\": [\n          396.24,\n          395.11\n        ],\n        \"semantic_type\": \"\",\n        \"description\": \"\"\n      }\n    },\n    {\n      \"column\": \"LSTAT\",\n      \"properties\": {\n        \"dtype\": \"number\",\n        \"std\": 7.141061511348571,\n        \"min\": 1.73,\n        \"max\": 37.97,\n        \"num_unique_values\": 455,\n        \"samples\": [\n          6.15,\n          4.32\n        ],\n        \"semantic_type\": \"\",\n        \"description\": \"\"\n      }\n    },\n    {\n      \"column\": \"MEDV\",\n      \"properties\": {\n        \"dtype\": \"number\",\n        \"std\": 9.19710408737982,\n        \"min\": 5.0,\n        \"max\": 50.0,\n        \"num_unique_values\": 229,\n        \"samples\": [\n          14.1,\n          22.5\n        ],\n        \"semantic_type\": \"\",\n        \"description\": \"\"\n      }\n    }\n  ]\n}"
            }
          },
          "metadata": {},
          "execution_count": 9
        }
      ]
    },
    {
      "cell_type": "markdown",
      "source": [
        "# the boston housing demo had an RMSE of 4.568 and an R2 score of 0.733449 using the sklearn.linear_model library\n"
      ],
      "metadata": {
        "id": "wfdAMAkH7iS8"
      }
    },
    {
      "cell_type": "code",
      "source": [
        "from sklearn.model_selection import train_test_split\n",
        "from sklearn.metrics import r2_score\n",
        "\n",
        "def rmse(predictions, targets):\n",
        "    return np.sqrt(((predictions - targets) ** 2).mean())\n",
        "\n",
        "X = boston.to_numpy()\n",
        "X = np.delete(X, 13, 1)\n",
        "y = boston['MEDV'].to_numpy()\n",
        "X_train, X_test, y_train, y_test = train_test_split(X, y, test_size = 0.2, random_state=5)\n",
        "from sklearn.linear_model import LinearRegression\n",
        "lin_model = LinearRegression()\n",
        "lin_model.fit(X_train, y_train)\n",
        "\n",
        "# Let us now evaluate on the test set\n",
        "y_pred_test = lin_model.predict(X_test)\n",
        "rmse_test = rmse(y_pred_test, y_test)\n",
        "r2_test = r2_score(y_test, y_pred_test)\n",
        "print(\"Test RMSE = \" + str(rmse_test))\n",
        "print(\"Test R2 = \" + str(r2_test))"
      ],
      "metadata": {
        "colab": {
          "base_uri": "https://localhost:8080/"
        },
        "id": "j7XQ3faa6238",
        "outputId": "fdf46240-21c5-4f3b-dd68-0f9c0a82b64f"
      },
      "execution_count": 10,
      "outputs": [
        {
          "output_type": "stream",
          "name": "stdout",
          "text": [
            "Test RMSE = 4.568292042303212\n",
            "Test R2 = 0.7334492147453071\n"
          ]
        }
      ]
    },
    {
      "cell_type": "markdown",
      "source": [
        "# Testing my implementation of linear regression"
      ],
      "metadata": {
        "id": "Fzrzax_Q705q"
      }
    },
    {
      "cell_type": "code",
      "source": [
        "seededRand = np.random.default_rng(10) # seeting a seed for random initial weights after a few tests\n",
        "initialWeights = seededRand.random(13)\n",
        "initialBias = 0\n",
        "hypothesisFunction = HypothesisFunction(initialWeights, initialBias)"
      ],
      "metadata": {
        "id": "JniOpcgwWYjZ"
      },
      "execution_count": 11,
      "outputs": []
    },
    {
      "cell_type": "code",
      "source": [
        "lossFunction = MSE()\n",
        "MSEBasedModel = MyLinearRegression(hypothesisFunction, lossFunction, 0.0000032, 15)\n",
        "MSEBasedModel.fit(X_train, y_train)\n",
        "\n",
        "preditctedMSETest = MSEBasedModel.predictValues(X_test)\n",
        "rmse_test = rmse(preditctedMSETest, y_test)\n",
        "r2_test = r2_score(y_test, preditctedMSETest)\n",
        "print(\"Test RMSE = \" + str(rmse_test))\n",
        "print(\"Test R2 = \" + str(r2_test))"
      ],
      "metadata": {
        "colab": {
          "base_uri": "https://localhost:8080/"
        },
        "id": "zqLobE6o7shd",
        "outputId": "4efe77ca-7738-4059-d022-5d3875069e19"
      },
      "execution_count": 12,
      "outputs": [
        {
          "output_type": "stream",
          "name": "stdout",
          "text": [
            "Epoch: 0, Cost: 362191.290396663\n",
            "Epoch: 1, Cost: 358252.9200376759\n",
            "Epoch: 2, Cost: 354586.66584129696\n",
            "Epoch: 3, Cost: 351125.0294482009\n",
            "Epoch: 4, Cost: 347818.88413658016\n",
            "Epoch: 5, Cost: 344632.4592733984\n",
            "Epoch: 6, Cost: 341539.6941643463\n",
            "Epoch: 7, Cost: 338521.5874135391\n",
            "Epoch: 8, Cost: 335564.269987473\n",
            "Epoch: 9, Cost: 332657.604389205\n",
            "Epoch: 10, Cost: 329794.16629813454\n",
            "Epoch: 11, Cost: 326968.50425025\n",
            "Epoch: 12, Cost: 324176.6014450776\n",
            "Epoch: 13, Cost: 321415.48449239996\n",
            "Epoch: 14, Cost: 318682.93897959817\n",
            "Test RMSE = 567.500973451071\n",
            "Test R2 = -4112.442855711668\n"
          ]
        }
      ]
    },
    {
      "cell_type": "markdown",
      "source": [
        "# testing MSE with different learning rates and epoch\n",
        "\n",
        "learning rates greater than 0.0000032 were causing divergence\n",
        "\n",
        "learning rate of 0.0000032 with 10000 epoc resulted in:\n",
        "\n",
        "- Epoch: 9994, Cost: 41.86905593178195\n",
        "- Epoch: 9995, Cost: 41.86866453302574\n",
        "- Epoch: 9996, Cost: 41.868273238307\n",
        "- Epoch: 9997, Cost: 41.86788204757667\n",
        "- Epoch: 9998, Cost: 41.86749096078577\n",
        "- Epoch: 9999, Cost: 41.867099977885324\n",
        "\n",
        "With final RMSE and R2 as\n",
        "- Test RMSE = 6.519066163975588\n",
        "- Test R2 = 0.4571960186208912\n",
        "\n",
        "bumping up to 10k epochs started to show a little overfitting\n",
        "- Epoch: 99995, Cost: 34.54026778831328\n",
        "- Epoch: 99996, Cost: 34.5401858536382\n",
        "- Epoch: 99997, Cost: 34.54010391969166\n",
        "- Epoch: 99998, Cost: 34.54002198647363\n",
        "- Epoch: 99999, Cost: 34.53994005398413\n",
        "\n",
        "With final RMSE and R2 as\n",
        "Test RMSE = 6.048356456432215\n",
        "Test R2 = 0.5327524820339438\n",
        "\n",
        "after running multiple test it starting to show that having the rand function to set the initial weights is causing alot of varience in the results so I am adjusting it to use a seed\n",
        "\n",
        "with seed, 3000 epoc and 0.0000032 learning rate\n",
        " - Epoch: 2999, Cost: 77.93920862114032\n",
        "- Test RMSE = 8.379106356504652\n",
        "- Test R2 = 0.10325770720637828\n",
        "\n",
        "\n",
        "with seed, 30k epoc adn 0.0000032 learning rate\n",
        "- Epoch: 29999, Cost: 43.098175798092946\n",
        "- Test RMSE = 6.826398571036534\n",
        "- Test R2 = 0.4048101310893092\n",
        "\n",
        "with seed, 90k epoc and same l rate\n",
        "- Epoch: 89999, Cost: 35.77096457525381\n",
        "- Test RMSE = 6.1718540196283795\n",
        "- Test R2 = 0.5134768191945369\n",
        "\n",
        "with seed, 150k epoc and same l rate\n",
        "- Epoch: 149999, Cost: 31.485463229998693\n",
        "- Test RMSE = 5.737316089649038\n",
        "- Test R2 = 0.5795737717745555\n"
      ],
      "metadata": {
        "id": "4R1HUdY-OKyj"
      }
    },
    {
      "cell_type": "code",
      "source": [
        "# now looking at MAE\n",
        "lossFunction = MAE()\n",
        "MAEBasedModel = MyLinearRegression(hypothesisFunction, lossFunction, 0.00000003, 15)\n",
        "MAEBasedModel.fit(X_train, y_train)\n",
        "\n",
        "preditctedMAETest = MAEBasedModel.predictValues(X_test)\n",
        "rmse_test = rmse(preditctedMAETest, y_test)\n",
        "r2_test = r2_score(y_test, preditctedMAETest)\n",
        "print(\"Test RMSE = \" + str(rmse_test))\n",
        "print(\"Test R2 = \" + str(r2_test))"
      ],
      "metadata": {
        "colab": {
          "base_uri": "https://localhost:8080/"
        },
        "id": "ADKpenflThNg",
        "outputId": "196e2a13-7d07-4968-ce34-7f4ec8d443ae"
      },
      "execution_count": 13,
      "outputs": [
        {
          "output_type": "stream",
          "name": "stdout",
          "text": [
            "Epoch: 0, Cost: 548.2660735917243\n",
            "Epoch: 1, Cost: 544.6499493892943\n",
            "Epoch: 2, Cost: 541.0338251868644\n",
            "Epoch: 3, Cost: 537.4177009844343\n",
            "Epoch: 4, Cost: 533.8015767820044\n",
            "Epoch: 5, Cost: 530.1854525795744\n",
            "Epoch: 6, Cost: 526.5693283771445\n",
            "Epoch: 7, Cost: 522.9532041747145\n",
            "Epoch: 8, Cost: 519.3370799722846\n",
            "Epoch: 9, Cost: 515.7209557698548\n",
            "Epoch: 10, Cost: 512.1048315674246\n",
            "Epoch: 11, Cost: 508.4887073649947\n",
            "Epoch: 12, Cost: 504.8725831625647\n",
            "Epoch: 13, Cost: 501.2564589601348\n",
            "Epoch: 14, Cost: 497.64033475770486\n",
            "Test RMSE = 511.66938850655237\n",
            "Test R2 = -3342.8833393622017\n"
          ]
        }
      ]
    },
    {
      "cell_type": "markdown",
      "source": [
        "# testing MSA with different learning rates and epoch\n",
        "\n",
        "with mse learning rates greater than 0.00000003 was causing the cost to diverge/ocilate\n",
        "\n",
        "with 0.00000003 lr and 150k epocs\n",
        "- Epoch: 149999, Cost: 4.360151055108094\n",
        "- Test RMSE = 6.387948098132453\n",
        "- Test R2 = 0.4788112839521784"
      ],
      "metadata": {
        "id": "zgSQSGmsTPZd"
      }
    },
    {
      "cell_type": "markdown",
      "source": [
        "# comparison\n",
        "\n",
        "my solutions did not beat the Test RMSE = 4.568292042303212 and\n",
        "Test R2 = 0.7334492147453071 of the sklearn implementation\n",
        "\n",
        "with the MSE loss function performing better than the MAE at\n",
        "- Test RMSE = 5.737316089649038\n",
        "- Test R2 = 0.5795737717745555\n",
        "\n",
        "and MAE performing the worst at\n",
        "- Test RMSE = 6.387948098132453\n",
        "- Test R2 = 0.4788112839521784\n",
        "\n",
        "I believe this may be due to how I am handling the math in my classes and the percision of the variable being through around as well as the learning rate implementation with in sklearn being better"
      ],
      "metadata": {
        "id": "9gcbYTR2h-im"
      }
    },
    {
      "cell_type": "markdown",
      "source": [
        "# Q5"
      ],
      "metadata": {
        "id": "8MvVC0gEjZV8"
      }
    },
    {
      "cell_type": "code",
      "source": [
        "class PerceptronLoss(LossFunction):\n",
        "    def computeLoss(self, actual: np.ndarray, predicted: np.ndarray):\n",
        "        return np.maximum(0.0, -actual * predicted)\n",
        "\n",
        "    def computeGradient(self, actual, predicted, dataValues):\n",
        "      # this is actually a sub gradient but reusing the function name for consistency\n",
        "      zeroIfClassifiedCorrectly = (actual * predicted <= 0)\n",
        "      return dataValues.T @ (zeroIfClassifiedCorrectly * actual)\n",
        "\n",
        "    def computeBias(self, actual, predicted):\n",
        "      zeroIfClassifiedCorrectly = (actual * predicted <= 0)\n",
        "      return (zeroIfClassifiedCorrectly * actual).sum()\n",
        "\n",
        "class HingeLoss(LossFunction):\n",
        "    def computeLoss(self, actual, predicted):\n",
        "        return np.maximum(0.0, 1.0 - actual * predicted)\n",
        "\n",
        "    def computeGradient(self, actual, predicted, dataValues):\n",
        "      # this is actually a sub gradient but reusing the function name for consistency\n",
        "      zeroIfClassifiedCorrectly = (actual * predicted <= 0)\n",
        "      return dataValues.T @ (zeroIfClassifiedCorrectly * -actual)\n",
        "\n",
        "    def computeBias(self, actual, predicted):\n",
        "      zeroIfClassifiedCorrectly = (actual * predicted <= 0)\n",
        "      return (zeroIfClassifiedCorrectly * actual).sum()"
      ],
      "metadata": {
        "id": "QAJegHyfhnAE"
      },
      "execution_count": 305,
      "outputs": []
    },
    {
      "cell_type": "code",
      "source": [
        "class MyPerceptron:\n",
        "    def __init__(self, hypothesisFunction : HypothesisFunction, lossFunction : LossFunction, learningRate = 0.001, epochs = 10):\n",
        "        self.learningModel = hypothesisFunction\n",
        "        self.lossFunction = lossFunction\n",
        "        self.learningRate = learningRate\n",
        "        self.epochs = epochs\n",
        "\n",
        "    def fit(self, dataValues, dataTargets):\n",
        "        for epoch in range(self.epochs):\n",
        "            subGradientDirectionMatrix, subGradientDiasDirectionMatrix = self.calculateSubGradientDescent(dataValues, dataTargets)\n",
        "            self.updateWeights(subGradientDirectionMatrix, subGradientDiasDirectionMatrix)\n",
        "            error = self.calculateError(dataValues, dataTargets)\n",
        "            print(f\"Epoch: {epoch}, Error: {error}\")\n",
        "        return self\n",
        "\n",
        "    def predict(self, data):\n",
        "        return np.sign(self.learningModel.computeClassification(data))\n",
        "\n",
        "    def predictValues(self, dataValues):\n",
        "      predictedValues = []\n",
        "      for data in dataValues:\n",
        "        predictedValues.append(self.predict(data))\n",
        "      return np.array(predictedValues)\n",
        "\n",
        "    def evaluate(self, dataValues, dataTargets):\n",
        "        pass\n",
        "\n",
        "    def calculateSubGradientDescent(self, dataValues, dataTargets):\n",
        "        # calculate the gradient\n",
        "        predicted = self.predictValues(dataValues)\n",
        "        subGradientDirection = self.lossFunction.computeGradient(dataTargets, predicted, dataValues)\n",
        "        subGradientBiasDirection = self.lossFunction.computeBias(dataTargets, predicted)\n",
        "        return subGradientDirection, subGradientBiasDirection\n",
        "\n",
        "    def updateWeights(self, subGradientDirection, subGradientBiasDirection):\n",
        "        # update the weights and bias\n",
        "        print('sub gradient:', subGradientDirection)\n",
        "        newWeights = self.learningModel.getWeights() + self.learningRate * subGradientDirection\n",
        "        print('updated weights:', newWeights)\n",
        "        newBias = self.learningModel.getBias() + self.learningRate * subGradientBiasDirection\n",
        "        self.learningModel.updateWeights(newWeights)\n",
        "        self.learningModel.updateBias(newBias)\n",
        "\n",
        "    def calculateError(self, dataValues, dataTargets):\n",
        "        predicted = self.predictValues(dataValues)\n",
        "        misclassified = predicted != dataTargets\n",
        "        return np.mean(misclassified)"
      ],
      "metadata": {
        "id": "toa6qXicqtMf"
      },
      "execution_count": 287,
      "outputs": []
    },
    {
      "cell_type": "code",
      "source": [
        "\n",
        "from sklearn.datasets import make_blobs\n",
        "X, y = make_blobs(n_samples=50, centers=2,\n",
        "                  random_state=0, cluster_std=0.60)"
      ],
      "metadata": {
        "id": "GVPz1I4VVOdj"
      },
      "execution_count": 288,
      "outputs": []
    },
    {
      "cell_type": "code",
      "source": [
        "initialWeights = np.array([-0.1, 0.1]) # using a y = mx +b with one weight for a linear function doing this after reviewing the output of the above cell\n",
        "initialBias = -1\n",
        "hypothesisFunction = HypothesisFunction(initialWeights, initialBias)\n",
        "lossFunction = PerceptronLoss()\n",
        "perceptronModel = MyPerceptron(hypothesisFunction, lossFunction, .01, 10)\n",
        "y_mapped = np.where(y == 0, -1, 1) # expecting y classification to be -1 and 1 for our purposes\n",
        "perceptronModel.fit(X, y_mapped)\n",
        "print('predicted values', perceptronModel.predictValues(X))\n",
        "print('actual values', y_mapped)\n"
      ],
      "metadata": {
        "colab": {
          "base_uri": "https://localhost:8080/"
        },
        "id": "lfJAd0pIzioo",
        "outputId": "d14369b4-9903-4f68-fbc0-89223476bd9f"
      },
      "execution_count": 289,
      "outputs": [
        {
          "output_type": "stream",
          "name": "stdout",
          "text": [
            "sub gradient: [50.45477971 24.20078543]\n",
            "updated weights: [0.4045478  0.34200785]\n",
            "Epoch: 0, Error: 0.52\n",
            "sub gradient: [ -22.99239066 -107.24624354]\n",
            "updated weights: [ 0.17462389 -0.73045458]\n",
            "Epoch: 1, Error: 0.5\n",
            "sub gradient: [50.45477971 24.20078543]\n",
            "updated weights: [ 0.67917169 -0.48844673]\n",
            "Epoch: 2, Error: 0.14\n",
            "sub gradient: [10.52493599 10.1522765 ]\n",
            "updated weights: [ 0.78442105 -0.38692396]\n",
            "Epoch: 3, Error: 0.08\n",
            "sub gradient: [5.1391186  5.62312895]\n",
            "updated weights: [ 0.83581223 -0.33069267]\n",
            "Epoch: 4, Error: 0.06\n",
            "sub gradient: [ 0.03200218 -0.77653322]\n",
            "updated weights: [ 0.83613226 -0.338458  ]\n",
            "Epoch: 5, Error: 0.06\n",
            "sub gradient: [ 0.03200218 -0.77653322]\n",
            "updated weights: [ 0.83645228 -0.34622334]\n",
            "Epoch: 6, Error: 0.06\n",
            "sub gradient: [ 0.03200218 -0.77653322]\n",
            "updated weights: [ 0.8367723  -0.35398867]\n",
            "Epoch: 7, Error: 0.06\n",
            "sub gradient: [ 0.03200218 -0.77653322]\n",
            "updated weights: [ 0.83709232 -0.361754  ]\n",
            "Epoch: 8, Error: 0.06\n",
            "sub gradient: [ 0.03200218 -0.77653322]\n",
            "updated weights: [ 0.83741234 -0.36951933]\n",
            "Epoch: 9, Error: 0.06\n",
            "predicted values [ 1.  1. -1. -1.  1.  1.  1.  1.  1. -1. -1. -1. -1.  1. -1. -1. -1.  1.\n",
            " -1. -1.  1.  1.  1.  1.  1.  1. -1. -1.  1. -1.  1. -1. -1. -1. -1.  1.\n",
            "  1. -1.  1. -1. -1. -1.  1.  1. -1. -1.  1. -1.  1. -1.]\n",
            "actual values [ 1  1 -1 -1  1  1  1  1  1 -1 -1 -1 -1  1 -1 -1 -1  1 -1 -1  1  1  1  1\n",
            "  1 -1 -1 -1  1 -1  1 -1 -1 -1 -1  1  1 -1  1 -1  1 -1  1  1 -1  1  1 -1\n",
            "  1 -1]\n"
          ]
        }
      ]
    },
    {
      "cell_type": "markdown",
      "source": [
        "running the perceptron with a few different intial weights and bias as well as\n",
        "changing up the learning rate and epocs resulted in converging at an error of 0.5 pretty consistently, I belive something is wrong with my implementation or computation of the error\n",
        "\n",
        "perceptron with learning rate of 0.01, and 10 epocs\n",
        "- sub gradient: 25.0\n",
        "- updated weights: [0.25 0.25]\n",
        "- Epoch: 0, Error: 0.78\n",
        "- sub gradient: 39.0\n",
        "- updated weights: [0.64 0.64]\n",
        "- Epoch: 1, Error: 0.5\n",
        "- sub gradient: 25.0\n",
        "- updated weights: [0.89 0.89]\n",
        "- Epoch: 2, Error: 0.5\n",
        "- sub gradient: 25.0\n",
        "- updated weights: [1.14 1.14]\n",
        "- Epoch: 3, Error: 0.5\n",
        "\n",
        "... looks like it was due to my core classification prediction function\n",
        "   -  def computeClassification(self, data):\n",
        "        - data = data.reshape(-1)\n",
        "        - return np.sign(self.hypothesis @ data + self.bias)\n",
        "\n",
        "        ^ before fixing it up\n",
        "\n",
        "  plus a few other scalar versus vector multiplication...\n",
        "\n",
        "\n",
        "  after fixing up my implementation im getting\n",
        "\n",
        "- sub gradient: [50.45477971 24.20078543]\n",
        "- updated weights: [0.4045478  0.34200785]\n",
        "- Epoch: 0, Error: 0.52\n",
        "- sub gradient: [ -22.99239066 -107.24624354]\n",
        "- updated weights: [ 0.17462389 -0.73045458]\n",
        "- Epoch: 1, Error: 0.5\n",
        "- sub gradient: [50.45477971 24.20078543]\n",
        "- updated weights: [ 0.67917169 -0.48844673]\n",
        "- Epoch: 2, Error: 0.14\n",
        "- sub gradient: [10.52493599 10.1522765 ]\n",
        "- updated weights: [ 0.78442105 -0.38692396]\n",
        "- Epoch: 3, Error: 0.08\n",
        "- sub gradient: [5.1391186  5.62312895]\n",
        "- updated weights: [ 0.83581223 -0.33069267]\n",
        "- Epoch: 4, Error: 0.06\n",
        "- sub gradient: [ 0.03200218 -0.77653322]\n",
        "- updated weights: [ 0.83613226 -0.338458  ]\n",
        "started converging here"
      ],
      "metadata": {
        "id": "4znt6SyzkEVT"
      }
    },
    {
      "cell_type": "markdown",
      "source": [
        "# using blob data and visuals from SVM lab"
      ],
      "metadata": {
        "id": "yMM3ycoH4CxE"
      }
    },
    {
      "cell_type": "code",
      "source": [
        "plt.scatter(X[:, 0], X[:, 1], c=y, s=50, cmap='autumn');"
      ],
      "metadata": {
        "colab": {
          "base_uri": "https://localhost:8080/",
          "height": 430
        },
        "id": "ir46yPy3q3O-",
        "outputId": "1b8f3482-b64d-4603-aa1b-0a0a35c56186"
      },
      "execution_count": 290,
      "outputs": [
        {
          "output_type": "display_data",
          "data": {
            "text/plain": [
              "<Figure size 640x480 with 1 Axes>"
            ],
            "image/png": "[encoded data removed]"
          },
          "metadata": {}
        }
      ]
    },
    {
      "cell_type": "code",
      "source": [
        "xfit = np.linspace(-1, 3.5)\n",
        "plt.scatter(X[:, 0], X[:, 1], c=y, s=50, cmap='autumn')\n",
        "plt.plot([0.6], [2.4], 'x', color='red', markeredgewidth=2, markersize=10)\n",
        "plt.plot([0.6], [1.5], 'x', color='yellow', markeredgewidth=2, markersize=10)\n",
        "\n",
        "for m, b in [(1, 0.65), (0.5, 1.6), (-0.2, 2.9)]:\n",
        "    plt.plot(xfit, m * xfit + b, '-k')\n",
        "\n",
        "plt.xlim(-1, 3.5);\n"
      ],
      "metadata": {
        "colab": {
          "base_uri": "https://localhost:8080/",
          "height": 430
        },
        "id": "qWHUu_n6sKh2",
        "outputId": "91aa7754-6905-4b6c-c096-5cf9f49cfc28"
      },
      "execution_count": 291,
      "outputs": [
        {
          "output_type": "display_data",
          "data": {
            "text/plain": [
              "<Figure size 640x480 with 1 Axes>"
            ],
            "image/png": "[encoded data removed]"
          },
          "metadata": {}
        }
      ]
    },
    {
      "cell_type": "markdown",
      "source": [
        "# Hinge loss function"
      ],
      "metadata": {
        "id": "_rToyHK4gvUK"
      }
    },
    {
      "cell_type": "code",
      "source": [
        "class MySVM:\n",
        "    def __init__(self, hypothesisFunction : HypothesisFunction, lossFunction : LossFunction, learningRate = 0.001, epochs = 10):\n",
        "        self.learningModel = hypothesisFunction\n",
        "        self.lossFunction = lossFunction\n",
        "        self.learningRate = learningRate\n",
        "        self.epochs = epochs\n",
        "\n",
        "    def fit(self, dataValues, dataTargets):\n",
        "        for epoch in range(self.epochs):\n",
        "            subGradientDirectionMatrix, subGradientDiasDirectionMatrix = self.calculateSubGradientDescent(dataValues, dataTargets)\n",
        "            self.updateWeights(subGradientDirectionMatrix, subGradientDiasDirectionMatrix)\n",
        "            error = self.calculateError(dataValues, dataTargets)\n",
        "            print(f\"Epoch: {epoch}, Error: {error}\")\n",
        "        return self\n",
        "\n",
        "    def predict(self, data):\n",
        "        return np.sign(self.learningModel.computeClassification(data))\n",
        "\n",
        "    def predictValues(self, dataValues):\n",
        "      predictedValues = []\n",
        "      for data in dataValues:\n",
        "        predictedValues.append(self.predict(data))\n",
        "      return np.array(predictedValues)\n",
        "\n",
        "    def evaluate(self, dataValues, dataTargets):\n",
        "        pass\n",
        "\n",
        "    def calculateSubGradientDescent(self, dataValues, dataTargets):\n",
        "        # calculate the gradient\n",
        "        predicted = self.predictValues(dataValues)\n",
        "        subGradientDirection = self.lossFunction.computeGradient(dataTargets, predicted, dataValues)\n",
        "        subGradientBiasDirection = self.lossFunction.computeBias(dataTargets, predicted)\n",
        "        return subGradientDirection, subGradientBiasDirection\n",
        "\n",
        "    def updateWeights(self, subGradientDirection, subGradientBiasDirection):\n",
        "        # update the weights and bias\n",
        "        print('sub gradient:', subGradientDirection)\n",
        "        newWeights = self.learningModel.getWeights() - self.learningRate * subGradientDirection\n",
        "        print('updated weights:', newWeights)\n",
        "        newBias = self.learningModel.getBias() - self.learningRate * subGradientBiasDirection\n",
        "        self.learningModel.updateWeights(newWeights)\n",
        "        self.learningModel.updateBias(newBias)\n",
        "\n",
        "    def calculateError(self, dataValues, dataTargets):\n",
        "        predicted = self.predictValues(dataValues)\n",
        "        misclassified = predicted != dataTargets\n",
        "        return np.mean(misclassified)"
      ],
      "metadata": {
        "id": "T6er53EJtL9j"
      },
      "execution_count": 307,
      "outputs": []
    },
    {
      "cell_type": "code",
      "source": [
        "initialWeights = np.array([-0.1, 0.1]) # using a y = mx +b with one weight for a linear function doing this after reviewing the output of the above cell\n",
        "initialBias = -1\n",
        "hypothesisFunction = HypothesisFunction(initialWeights, initialBias)\n",
        "lossFunction = HingeLoss()\n",
        "perceptronModel = MySVM(hypothesisFunction, lossFunction, .08, 10)\n",
        "y_mapped = np.where(y == 0, -1, 1) # expecting y classification to be -1 and 1 for our purposes\n",
        "perceptronModel.fit(X, y_mapped)\n",
        "print('predicted values', perceptronModel.predictValues(X))\n",
        "print('actual values', y_mapped)"
      ],
      "metadata": {
        "colab": {
          "base_uri": "https://localhost:8080/"
        },
        "id": "uD-jLpAmsRsA",
        "outputId": "ed5000bf-e618-4d1e-f2f4-bec268558c7d"
      },
      "execution_count": 315,
      "outputs": [
        {
          "output_type": "stream",
          "name": "stdout",
          "text": [
            "sub gradient: [-50.45477971 -24.20078543]\n",
            "updated weights: [3.93638238 2.03606283]\n",
            "Epoch: 0, Error: 0.5\n",
            "sub gradient: [ 24.55977041 107.10813763]\n",
            "updated weights: [ 1.97160074 -6.53258818]\n",
            "Epoch: 1, Error: 0.4\n",
            "sub gradient: [-38.33199659 -23.63041988]\n",
            "updated weights: [ 5.03816047 -4.64215459]\n",
            "Epoch: 2, Error: 0.12\n",
            "sub gradient: [-9.01404749 -9.2234456 ]\n",
            "updated weights: [ 5.75928427 -3.90427894]\n",
            "Epoch: 3, Error: 0.08\n",
            "sub gradient: [-5.1391186  -5.62312895]\n",
            "updated weights: [ 6.17041376 -3.45442862]\n",
            "Epoch: 4, Error: 0.04\n",
            "sub gradient: [-2.37012504 -2.6546347 ]\n",
            "updated weights: [ 6.36002376 -3.24205785]\n",
            "Epoch: 5, Error: 0.06\n",
            "sub gradient: [-0.03200218  0.77653322]\n",
            "updated weights: [ 6.36258394 -3.3041805 ]\n",
            "Epoch: 6, Error: 0.04\n",
            "sub gradient: [-2.37012504 -2.6546347 ]\n",
            "updated weights: [ 6.55219394 -3.09180973]\n",
            "Epoch: 7, Error: 0.04\n",
            "sub gradient: [1.26097434 2.25583491]\n",
            "updated weights: [ 6.45131599 -3.27227652]\n",
            "Epoch: 8, Error: 0.06\n",
            "sub gradient: [-0.03200218  0.77653322]\n",
            "updated weights: [ 6.45387617 -3.33439918]\n",
            "Epoch: 9, Error: 0.04\n",
            "predicted values [ 1.  1. -1. -1.  1.  1.  1.  1.  1. -1. -1. -1. -1.  1. -1. -1. -1.  1.\n",
            " -1. -1.  1.  1.  1.  1.  1. -1. -1. -1.  1. -1.  1. -1. -1. -1. -1.  1.\n",
            "  1. -1.  1. -1. -1. -1.  1.  1. -1. -1.  1. -1.  1. -1.]\n",
            "actual values [ 1  1 -1 -1  1  1  1  1  1 -1 -1 -1 -1  1 -1 -1 -1  1 -1 -1  1  1  1  1\n",
            "  1 -1 -1 -1  1 -1  1 -1 -1 -1 -1  1  1 -1  1 -1  1 -1  1  1 -1  1  1 -1\n",
            "  1 -1]\n"
          ]
        }
      ]
    },
    {
      "cell_type": "markdown",
      "source": [
        "\n",
        "for the hinge loss looks like the best error was at 0.04 before the weights started ocilating\n",
        "```\n",
        "\n",
        "initialWeights = np.array([-0.1, 0.1]) # using a y = mx +b with one weight for a linear function doing this after reviewing the output of the above cell\n",
        "initialBias = -1\n",
        "hypothesisFunction = HypothesisFunction(initialWeights, initialBias)\n",
        "lossFunction = HingeLoss()\n",
        "perceptronModel = MySVM(hypothesisFunction, lossFunction, .08, 10)\n",
        "y_mapped = np.where(y == 0, -1, 1) # expecting y classification to be -1 and 1 for our purposes\n",
        "perceptronModel.fit(X, y_mapped)\n",
        "print('predicted values', perceptronMo\n",
        "sub gradient: [-50.45477971 -24.20078543]\n",
        "updated weights: [3.93638238 2.03606283]\n",
        "Epoch: 0, Error: 0.5\n",
        "sub gradient: [ 24.55977041 107.10813763]\n",
        "updated weights: [ 1.97160074 -6.53258818]\n",
        "Epoch: 1, Error: 0.4\n",
        "sub gradient: [-38.33199659 -23.63041988]\n",
        "updated weights: [ 5.03816047 -4.64215459]\n",
        "Epoch: 2, Error: 0.12\n",
        "sub gradient: [-9.01404749 -9.2234456 ]\n",
        "updated weights: [ 5.75928427 -3.90427894]\n",
        "Epoch: 3, Error: 0.08\n",
        "sub gradient: [-5.1391186  -5.62312895]\n",
        "updated weights: [ 6.17041376 -3.45442862]\n",
        "Epoch: 4, Error: 0.04\n",
        "sub gradient: [-2.37012504 -2.6546347 ]\n",
        "updated weights: [ 6.36002376 -3.24205785]\n",
        "Epoch: 5, Error: 0.06\n",
        "sub gradient: [-0.03200218  0.77653322]\n",
        "updated weights: [ 6.36258394 -3.3041805 ]\n",
        "Epoch: 6, Error: 0.04\n",
        "sub gradient: [-2.37012504 -2.6546347 ]\n",
        "updated weights: [ 6.55219394 -3.09180973]\n",
        "Epoch: 7, Error: 0.04\n",
        "sub gradient: [1.26097434 2.25583491]\n",
        "updated weights: [ 6.45131599 -3.27227652]\n",
        "Epoch: 8, Error: 0.06\n",
        "sub gradient: [-0.03200218  0.77653322]\n",
        "updated weights: [ 6.45387617 -3.33439918]\n",
        "Epoch: 9, Error: 0.04\n",
        "predicted values [ 1.  1. -1. -1.  1.  1.  1.  1.  1. -1. -1. -1. -1.  1. -1. -1. -1.  1.\n",
        " -1. -1.  1.  1.  1.  1.  1. -1. -1. -1.  1. -1.  1. -1. -1. -1. -1.  1.\n",
        "  1. -1.  1. -1. -1. -1.  1.  1. -1. -1.  1. -1.  1. -1.]\n",
        "actual values [ 1  1 -1 -1  1  1  1  1  1 -1 -1 -1 -1  1 -1 -1 -1  1 -1 -1  1  1  1  1\n",
        "  1 -1 -1 -1  1 -1  1 -1 -1 -1 -1  1  1 -1  1 -1  1 -1  1  1 -1  1  1 -1\n",
        "  1 -1]\n",
        "```\n",
        "\n"
      ],
      "metadata": {
        "id": "RuzrcQE01a-y"
      }
    },
    {
      "cell_type": "markdown",
      "source": [
        "# compared to the SVM demo my implementation had a close error rate with the perceptron loss being more stable, however I believe this is due to not implementing additional hyper parameters that SVMs take to handle more expansive cases in the data"
      ],
      "metadata": {
        "id": "jRL8ZWg71qas"
      }
    },
    {
      "cell_type": "code",
      "source": [
        "perceptronModel.learningModel.getWeights()"
      ],
      "metadata": {
        "colab": {
          "base_uri": "https://localhost:8080/"
        },
        "id": "PK9v-sdO5EwA",
        "outputId": "b383c728-e968-4a5d-a546-60c5de4383ea"
      },
      "execution_count": 285,
      "outputs": [
        {
          "output_type": "execute_result",
          "data": {
            "text/plain": [
              "array([-0.1,  0.1])"
            ]
          },
          "metadata": {},
          "execution_count": 285
        }
      ]
    },
    {
      "cell_type": "code",
      "source": [],
      "metadata": {
        "id": "AWtYcbeEwlOO"
      },
      "execution_count": null,
      "outputs": []
    }
  ]
}